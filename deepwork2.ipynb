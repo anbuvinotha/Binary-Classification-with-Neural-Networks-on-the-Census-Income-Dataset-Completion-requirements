{
 "cells": [
  {
   "cell_type": "code",
   "execution_count": 50,
   "id": "ec63c3c6-7e5e-4b1e-aead-1c5346663d03",
   "metadata": {},
   "outputs": [],
   "source": [
    "# Imports & Setup\n",
    "import torch\n",
    "import torch.nn as nn\n",
    "import torch.optim as optim\n",
    "import torch.nn.functional as F\n",
    "import numpy as np\n",
    "import pandas as pd\n",
    "from sklearn.utils import shuffle"
   ]
  },
  {
   "cell_type": "code",
   "execution_count": 51,
   "id": "74084746-61cf-4528-9227-3003d98cc615",
   "metadata": {},
   "outputs": [],
   "source": [
    "# Load Data\n",
    "df = pd.read_csv('income.csv')\n",
    "df = shuffle(df, random_state=101).reset_index(drop=True)"
   ]
  },
  {
   "cell_type": "code",
   "execution_count": 52,
   "id": "924d8320-b083-4b0e-8198-8315d23ff563",
   "metadata": {},
   "outputs": [
    {
     "name": "stdout",
     "output_type": "stream",
     "text": [
      "30000\n"
     ]
    },
    {
     "data": {
      "text/html": [
       "<div>\n",
       "<style scoped>\n",
       "    .dataframe tbody tr th:only-of-type {\n",
       "        vertical-align: middle;\n",
       "    }\n",
       "\n",
       "    .dataframe tbody tr th {\n",
       "        vertical-align: top;\n",
       "    }\n",
       "\n",
       "    .dataframe thead th {\n",
       "        text-align: right;\n",
       "    }\n",
       "</style>\n",
       "<table border=\"1\" class=\"dataframe\">\n",
       "  <thead>\n",
       "    <tr style=\"text-align: right;\">\n",
       "      <th></th>\n",
       "      <th>age</th>\n",
       "      <th>sex</th>\n",
       "      <th>education</th>\n",
       "      <th>education-num</th>\n",
       "      <th>marital-status</th>\n",
       "      <th>workclass</th>\n",
       "      <th>occupation</th>\n",
       "      <th>hours-per-week</th>\n",
       "      <th>income</th>\n",
       "      <th>label</th>\n",
       "    </tr>\n",
       "  </thead>\n",
       "  <tbody>\n",
       "    <tr>\n",
       "      <th>0</th>\n",
       "      <td>23</td>\n",
       "      <td>Female</td>\n",
       "      <td>HS-grad</td>\n",
       "      <td>9</td>\n",
       "      <td>Never-married</td>\n",
       "      <td>Private</td>\n",
       "      <td>Other-service</td>\n",
       "      <td>50</td>\n",
       "      <td>&lt;=50K</td>\n",
       "      <td>0</td>\n",
       "    </tr>\n",
       "    <tr>\n",
       "      <th>1</th>\n",
       "      <td>37</td>\n",
       "      <td>Female</td>\n",
       "      <td>Prof-school</td>\n",
       "      <td>15</td>\n",
       "      <td>Married</td>\n",
       "      <td>State-gov</td>\n",
       "      <td>Prof-specialty</td>\n",
       "      <td>39</td>\n",
       "      <td>&gt;50K</td>\n",
       "      <td>1</td>\n",
       "    </tr>\n",
       "    <tr>\n",
       "      <th>2</th>\n",
       "      <td>34</td>\n",
       "      <td>Male</td>\n",
       "      <td>Some-college</td>\n",
       "      <td>10</td>\n",
       "      <td>Divorced</td>\n",
       "      <td>Private</td>\n",
       "      <td>Adm-clerical</td>\n",
       "      <td>40</td>\n",
       "      <td>&lt;=50K</td>\n",
       "      <td>0</td>\n",
       "    </tr>\n",
       "    <tr>\n",
       "      <th>3</th>\n",
       "      <td>31</td>\n",
       "      <td>Male</td>\n",
       "      <td>HS-grad</td>\n",
       "      <td>9</td>\n",
       "      <td>Married</td>\n",
       "      <td>Private</td>\n",
       "      <td>Craft-repair</td>\n",
       "      <td>40</td>\n",
       "      <td>&gt;50K</td>\n",
       "      <td>1</td>\n",
       "    </tr>\n",
       "    <tr>\n",
       "      <th>4</th>\n",
       "      <td>20</td>\n",
       "      <td>Female</td>\n",
       "      <td>Some-college</td>\n",
       "      <td>10</td>\n",
       "      <td>Never-married</td>\n",
       "      <td>Private</td>\n",
       "      <td>Sales</td>\n",
       "      <td>25</td>\n",
       "      <td>&lt;=50K</td>\n",
       "      <td>0</td>\n",
       "    </tr>\n",
       "  </tbody>\n",
       "</table>\n",
       "</div>"
      ],
      "text/plain": [
       "   age     sex     education  education-num marital-status  workclass  \\\n",
       "0   23  Female       HS-grad              9  Never-married    Private   \n",
       "1   37  Female   Prof-school             15        Married  State-gov   \n",
       "2   34    Male  Some-college             10       Divorced    Private   \n",
       "3   31    Male       HS-grad              9        Married    Private   \n",
       "4   20  Female  Some-college             10  Never-married    Private   \n",
       "\n",
       "       occupation  hours-per-week income  label  \n",
       "0   Other-service              50  <=50K      0  \n",
       "1  Prof-specialty              39   >50K      1  \n",
       "2    Adm-clerical              40  <=50K      0  \n",
       "3    Craft-repair              40   >50K      1  \n",
       "4           Sales              25  <=50K      0  "
      ]
     },
     "execution_count": 52,
     "metadata": {},
     "output_type": "execute_result"
    }
   ],
   "source": [
    "print(len(df))\n",
    "df.head()"
   ]
  },
  {
   "cell_type": "code",
   "execution_count": 53,
   "id": "10974315-7fe7-45db-8118-ed91ca0ca8a1",
   "metadata": {},
   "outputs": [
    {
     "data": {
      "text/plain": [
       "label\n",
       "0    21700\n",
       "1     8300\n",
       "Name: count, dtype: int64"
      ]
     },
     "execution_count": 53,
     "metadata": {},
     "output_type": "execute_result"
    }
   ],
   "source": [
    "df['label'].value_counts()"
   ]
  },
  {
   "cell_type": "code",
   "execution_count": 54,
   "id": "d4667ae5-4cd4-4bc4-b64f-b7c66f7e3888",
   "metadata": {},
   "outputs": [
    {
     "name": "stdout",
     "output_type": "stream",
     "text": [
      "cat_cols  has 5 columns\n",
      "cont_cols has 2 columns\n",
      "y_col     has 1 column\n"
     ]
    }
   ],
   "source": [
    "# 1. Separate categorical, continuous, label\n",
    "cat_cols  = ['sex','education','marital-status','workclass','occupation']\n",
    "cont_cols = ['age','hours-per-week']\n",
    "y_col     = ['label']\n",
    "\n",
    "print(f'cat_cols  has {len(cat_cols)} columns')\n",
    "print(f'cont_cols has {len(cont_cols)} columns')\n",
    "print(f'y_col     has {len(y_col)} column')"
   ]
  },
  {
   "cell_type": "code",
   "execution_count": 55,
   "id": "9c4a0ad5-0391-4ca7-8aab-f80911db7322",
   "metadata": {},
   "outputs": [],
   "source": [
    "# 2. Convert to category dtype\n",
    "for col in cat_cols:\n",
    "    df[col] = df[col].astype('category')"
   ]
  },
  {
   "cell_type": "code",
   "execution_count": 56,
   "id": "05b8e5ee-c84f-4abf-b815-3beb5ff6ce37",
   "metadata": {},
   "outputs": [
    {
     "data": {
      "text/plain": [
       "[(2, 1), (14, 7), (6, 3), (5, 3), (12, 6)]"
      ]
     },
     "execution_count": 56,
     "metadata": {},
     "output_type": "execute_result"
    }
   ],
   "source": [
    "# 3. Embedding sizes\n",
    "cat_szs = [len(df[col].cat.categories) for col in cat_cols]\n",
    "emb_szs = [(size, min(50, (size+1)//2)) for size in cat_szs]\n",
    "emb_szs"
   ]
  },
  {
   "cell_type": "code",
   "execution_count": 23,
   "id": "8c29ef16-facf-4a00-9124-3fb2282e520f",
   "metadata": {},
   "outputs": [
    {
     "data": {
      "text/plain": [
       "array([[ 0, 10,  3,  2,  6],\n",
       "       [ 0, 12,  1,  4,  7],\n",
       "       [ 1, 13,  0,  2,  0],\n",
       "       [ 1, 10,  1,  2,  1],\n",
       "       [ 0, 13,  3,  2,  9]], dtype=int8)"
      ]
     },
     "execution_count": 23,
     "metadata": {},
     "output_type": "execute_result"
    }
   ],
   "source": [
    "# 4. Create an array of categorical values\n",
    "cats = np.stack([df[col].cat.codes.values for col in cat_cols], axis=1)\n",
    "\n",
    "cats[:5]\n"
   ]
  },
  {
   "cell_type": "code",
   "execution_count": 39,
   "id": "31d4bfd0-9b38-4187-9adb-7716c779aa32",
   "metadata": {},
   "outputs": [
    {
     "data": {
      "text/plain": [
       "torch.int64"
      ]
     },
     "execution_count": 39,
     "metadata": {},
     "output_type": "execute_result"
    }
   ],
   "source": [
    "# 5. Convert categorical values to tensor (dtype int64)\n",
    "cats = cats.clone().detach().to(torch.int64)\n",
    "cats.dtype\n"
   ]
  },
  {
   "cell_type": "code",
   "execution_count": 24,
   "id": "d2d8d868-56ec-4d11-86db-b525701fc75f",
   "metadata": {},
   "outputs": [
    {
     "data": {
      "text/plain": [
       "array([[23, 50],\n",
       "       [37, 39],\n",
       "       [34, 40],\n",
       "       [31, 40],\n",
       "       [20, 25]], dtype=int64)"
      ]
     },
     "execution_count": 24,
     "metadata": {},
     "output_type": "execute_result"
    }
   ],
   "source": [
    "# 6. Stack continuous columns into a NumPy array\n",
    "conts = np.stack([df[col].values for col in cont_cols], axis=1)\n",
    "\n",
    "conts[:5]\n"
   ]
  },
  {
   "cell_type": "code",
   "execution_count": 25,
   "id": "032e1a63-3a40-4a28-9d18-898fa7ed6462",
   "metadata": {},
   "outputs": [
    {
     "data": {
      "text/plain": [
       "torch.float32"
      ]
     },
     "execution_count": 25,
     "metadata": {},
     "output_type": "execute_result"
    }
   ],
   "source": [
    "# 7. Convert continuous values to tensor (dtype float32)\n",
    "conts = torch.tensor(conts, dtype=torch.float32)\n",
    "\n",
    "conts.dtype\n"
   ]
  },
  {
   "cell_type": "code",
   "execution_count": 32,
   "id": "698f3f2d-c76d-424d-9516-ad1e98dfa1d9",
   "metadata": {},
   "outputs": [],
   "source": [
    "y = torch.tensor(df['label'].values, dtype=torch.int64).flatten()\n"
   ]
  },
  {
   "cell_type": "code",
   "execution_count": 33,
   "id": "e7049f46-f228-478f-86a2-15a324d347e8",
   "metadata": {},
   "outputs": [],
   "source": [
    "# 9. Train/test split\n",
    "b = 30000\n",
    "t = 5000\n",
    "cat_train, cat_test = cats[:b-t], cats[b-t:b]\n",
    "con_train, con_test = conts[:b-t], conts[b-t:b]\n",
    "y_train,   y_test   = y[:b-t],    y[b-t:b]"
   ]
  },
  {
   "cell_type": "code",
   "execution_count": 41,
   "id": "4483ec3e-3e3f-4239-b077-67bc88ec720c",
   "metadata": {},
   "outputs": [],
   "source": [
    "# 7. Define model\n",
    "class TabularModel(nn.Module):\n",
    "\n",
    "    def __init__(self, emb_szs, n_cont, out_sz, layers, p=0.5):\n",
    "        # Call the parent __init__\n",
    "        super().__init__()\n",
    "        \n",
    "        # Set up the embedding, dropout, and batch normalization layer attributes\n",
    "        self.embeds = nn.ModuleList([nn.Embedding(ni, nf) for ni,nf in emb_szs])\n",
    "        self.emb_drop = nn.Dropout(p)\n",
    "        self.bn_cont = nn.BatchNorm1d(n_cont)\n",
    "        \n",
    "        # Assign a variable to hold a list of layers\n",
    "        layerlist = []\n",
    "        \n",
    "        # Assign a variable to store the number of embedding and continuous layers\n",
    "        n_emb = sum((nf for ni,nf in emb_szs))\n",
    "        n_in = n_emb + n_cont\n",
    "        \n",
    "        # Iterate through the passed-in \"layers\" parameter (ie, [200,100]) to build a list of layers\n",
    "        for i in layers:\n",
    "            layerlist.append(nn.Linear(n_in,i)) \n",
    "            layerlist.append(nn.ReLU(inplace=True))\n",
    "            layerlist.append(nn.BatchNorm1d(i))\n",
    "            layerlist.append(nn.Dropout(p))\n",
    "            n_in = i\n",
    "        layerlist.append(nn.Linear(layers[-1],out_sz))\n",
    "        \n",
    "        # Convert the list of layers into an attribute\n",
    "        self.layers = nn.Sequential(*layerlist)\n",
    "    \n",
    "    def forward(self, x_cat, x_cont):\n",
    "        # Extract embedding values from the incoming categorical data\n",
    "        embeddings = []\n",
    "        for i,e in enumerate(self.embeds):\n",
    "            embeddings.append(e(x_cat[:,i]))\n",
    "        x = torch.cat(embeddings, 1)\n",
    "        # Perform an initial dropout on the embeddings\n",
    "        x = self.emb_drop(x)\n",
    "        \n",
    "        # Normalize the incoming continuous data\n",
    "        x_cont = self.bn_cont(x_cont)\n",
    "        x = torch.cat([x, x_cont], 1)\n",
    "        \n",
    "        # Set up model layers\n",
    "        x = self.layers(x)\n",
    "        return x"
   ]
  },
  {
   "cell_type": "code",
   "execution_count": 42,
   "id": "75792698-9bdf-459b-be59-1b94f2106983",
   "metadata": {},
   "outputs": [
    {
     "data": {
      "text/plain": [
       "<torch._C.Generator at 0x2ba51cb4a30>"
      ]
     },
     "execution_count": 42,
     "metadata": {},
     "output_type": "execute_result"
    }
   ],
   "source": [
    "# 10. Set the random seed\n",
    "torch.manual_seed(33)"
   ]
  },
  {
   "cell_type": "code",
   "execution_count": 43,
   "id": "d815c653-625a-4c6a-bf55-d8f36f21aba7",
   "metadata": {},
   "outputs": [
    {
     "name": "stdout",
     "output_type": "stream",
     "text": [
      "TabularModel(\n",
      "  (embeds): ModuleList(\n",
      "    (0): Embedding(2, 1)\n",
      "    (1): Embedding(14, 7)\n",
      "    (2): Embedding(6, 3)\n",
      "    (3): Embedding(5, 3)\n",
      "    (4): Embedding(12, 6)\n",
      "  )\n",
      "  (emb_drop): Dropout(p=0.4, inplace=False)\n",
      "  (bn_cont): BatchNorm1d(2, eps=1e-05, momentum=0.1, affine=True, track_running_stats=True)\n",
      "  (layers): Sequential(\n",
      "    (0): Linear(in_features=22, out_features=50, bias=True)\n",
      "    (1): ReLU(inplace=True)\n",
      "    (2): BatchNorm1d(50, eps=1e-05, momentum=0.1, affine=True, track_running_stats=True)\n",
      "    (3): Dropout(p=0.4, inplace=False)\n",
      "    (4): Linear(in_features=50, out_features=2, bias=True)\n",
      "  )\n",
      ")\n"
     ]
    }
   ],
   "source": [
    "#11. Create a TabularModel instance\n",
    "model = TabularModel(emb_szs=emb_szs, n_cont=len(cont_cols), out_sz=2, layers=[50], p=0.4)\n",
    "print(model)"
   ]
  },
  {
   "cell_type": "code",
   "execution_count": 44,
   "id": "e0043ae9-9bc1-447d-8045-d59f450906fd",
   "metadata": {},
   "outputs": [],
   "source": [
    "# 12. Loss & Optimizer\n",
    "criterion = nn.CrossEntropyLoss()\n",
    "optimizer = optim.Adam(model.parameters(), lr=0.001)"
   ]
  },
  {
   "cell_type": "code",
   "execution_count": 45,
   "id": "5ddc2ec4-bc85-464c-a90e-027ac8c6d24f",
   "metadata": {},
   "outputs": [
    {
     "name": "stdout",
     "output_type": "stream",
     "text": [
      "epoch:   1  loss: 0.81344736\n",
      "epoch:  26  loss: 0.59463936\n",
      "epoch:  51  loss: 0.51533055\n",
      "epoch:  76  loss: 0.46403277\n",
      "epoch: 101  loss: 0.42922780\n",
      "epoch: 126  loss: 0.40061691\n",
      "epoch: 151  loss: 0.37124613\n",
      "epoch: 176  loss: 0.35843733\n",
      "epoch: 201  loss: 0.34799820\n",
      "epoch: 226  loss: 0.33588532\n",
      "epoch: 251  loss: 0.33127117\n",
      "epoch: 276  loss: 0.32283258\n",
      "epoch: 300  loss: 0.31734011\n",
      "\n",
      "Duration: 20 seconds\n"
     ]
    }
   ],
   "source": [
    "#Train the model\n",
    "import time\n",
    "start_time = time.time()\n",
    "\n",
    "epochs = 300\n",
    "losses = []\n",
    "\n",
    "for i in range(epochs):\n",
    "    i+=1\n",
    "    y_pred = model(cat_train, con_train)\n",
    "    loss = criterion(y_pred, y_train)\n",
    "    losses.append(loss)\n",
    "    \n",
    "    # a neat trick to save screen space:\n",
    "    if i%25 == 1:\n",
    "        print(f'epoch: {i:3}  loss: {loss.item():10.8f}')\n",
    "\n",
    "    optimizer.zero_grad()\n",
    "    loss.backward()\n",
    "    optimizer.step()\n",
    "\n",
    "print(f'epoch: {i:3}  loss: {loss.item():10.8f}') # print the last line\n",
    "print(f'\\nDuration: {time.time() - start_time:.0f} seconds') # print the time elapsed"
   ]
  },
  {
   "cell_type": "code",
   "execution_count": 46,
   "id": "e830290f-0fa2-4773-8d60-4a8f8d3010d1",
   "metadata": {},
   "outputs": [
    {
     "data": {
      "image/png": "[encoded data removed]",
      "text/plain": [
       "<Figure size 640x480 with 1 Axes>"
      ]
     },
     "metadata": {},
     "output_type": "display_data"
    }
   ],
   "source": [
    "# 13. Plot Loss\n",
    "plt.plot([l.item() for l in losses])\n",
    "plt.xlabel(\"Epoch\")\n",
    "plt.ylabel(\"CrossEntropy Loss\")\n",
    "plt.show()"
   ]
  },
  {
   "cell_type": "code",
   "execution_count": 47,
   "id": "115f88d6-7a12-4146-9503-d4adf15d9aff",
   "metadata": {},
   "outputs": [
    {
     "name": "stdout",
     "output_type": "stream",
     "text": [
      "CE Loss: 0.33355415\n"
     ]
    }
   ],
   "source": [
    "#14. Evaluate the test set\n",
    "with torch.no_grad():  \n",
    "    # forward pass on the test set\n",
    "    y_val = model(cat_test, con_test)\n",
    "\n",
    "    # calculate loss against y_test\n",
    "    loss = criterion(y_val, y_test)\n",
    "\n",
    "print(f'CE Loss: {loss:.8f}')\n"
   ]
  },
  {
   "cell_type": "code",
   "execution_count": 48,
   "id": "6d1d4c7f-4944-4e05-8234-5a65be211fda",
   "metadata": {},
   "outputs": [
    {
     "name": "stdout",
     "output_type": "stream",
     "text": [
      "4232 out of 5000 = 84.64% correct\n"
     ]
    }
   ],
   "source": [
    "#15. Calculate the overall percent accuracy\n",
    "# Get predicted class (0 or 1) from model output\n",
    "preds = torch.argmax(y_val, dim=1)\n",
    "\n",
    "# Compare predictions to true labels\n",
    "correct = (preds == y_test).sum().item()\n",
    "total = y_test.size(0)\n",
    "accuracy = correct / total * 100\n",
    "\n",
    "print(f\"{correct} out of {total} = {accuracy:.2f}% correct\")\n"
   ]
  },
  {
   "cell_type": "code",
   "execution_count": 49,
   "id": "5ac57e0a-b9f1-4f19-a710-fb39a57b2cde",
   "metadata": {},
   "outputs": [
    {
     "name": "stdout",
     "output_type": "stream",
     "text": [
      "The predicted label is 0\n"
     ]
    }
   ],
   "source": [
    "# BONUS: Predict New Data\n",
    "\n",
    "def predict_new(age, sex, education, marital_status, workclass, occupation, hours_per_week):\n",
    "    model.eval()\n",
    "    cat_dicts = {col: {cat: i for i, cat in enumerate(df[col].cat.categories)} for col in cat_cols}\n",
    "    cat_input = [\n",
    "        cat_dicts['sex'][sex],\n",
    "        cat_dicts['education'][education],\n",
    "        cat_dicts['marital-status'][marital_status],\n",
    "        cat_dicts['workclass'][workclass],\n",
    "        cat_dicts['occupation'][occupation]\n",
    "    ]\n",
    "    cont_input = [age, hours_per_week]\n",
    "    cat_t = torch.tensor([cat_input], dtype=torch.int64)\n",
    "    cont_t = torch.tensor([cont_input], dtype=torch.float32)\n",
    "    out = model(cat_t, cont_t)\n",
    "    pred = torch.argmax(out, dim=1).item()\n",
    "    return pred\n",
    "\n",
    "# Example usage\n",
    "prediction = predict_new(22, \"Male\", \"12th\", \"Married\", \"Private\", \"Sales\", 40)\n",
    "print(f\"The predicted label is {prediction}\")"
   ]
  },
  {
   "cell_type": "code",
   "execution_count": null,
   "id": "df3aadaf-ef87-450b-af6f-ade86da92d42",
   "metadata": {},
   "outputs": [],
   "source": []
  }
 ],
 "metadata": {
  "kernelspec": {
   "display_name": "Python 3 (ipykernel)",
   "language": "python",
   "name": "python3"
  },
  "language_info": {
   "codemirror_mode": {
    "name": "ipython",
    "version": 3
   },
   "file_extension": ".py",
   "mimetype": "text/x-python",
   "name": "python",
   "nbconvert_exporter": "python",
   "pygments_lexer": "ipython3",
   "version": "3.11.13"
  }
 },
 "nbformat": 4,
 "nbformat_minor": 5
}
